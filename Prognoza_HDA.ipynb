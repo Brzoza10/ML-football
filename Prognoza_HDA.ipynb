{
 "cells": [
  {
   "cell_type": "markdown",
   "metadata": {},
   "source": [
    "Biblioteka \"pandas\" umożliwa w łatwy sposób wyodrębnianie, przetwarzanie oraz ładowanie danych w formie tabel.\n",
    "<br>\"Numpy\" umożliwia operacje na macierzach."
   ]
  },
  {
   "cell_type": "code",
   "execution_count": 1,
   "metadata": {},
   "outputs": [],
   "source": [
    "import pandas as pd\n",
    "import numpy as np\n",
    "import matplotlib.pyplot as plt\n",
    "import seaborn as sns\n",
    "import sklearn\n",
    "%matplotlib inline"
   ]
  },
  {
   "cell_type": "markdown",
   "metadata": {},
   "source": [
    "Najpierw załadowano dane z przygotowanego wcześniej pliku:"
   ]
  },
  {
   "cell_type": "code",
   "execution_count": 2,
   "metadata": {},
   "outputs": [],
   "source": [
    "df = pd.read_csv(\"final.csv\")"
   ]
  },
  {
   "cell_type": "code",
   "execution_count": 3,
   "metadata": {},
   "outputs": [
    {
     "data": {
      "text/html": [
       "<div>\n",
       "<style scoped>\n",
       "    .dataframe tbody tr th:only-of-type {\n",
       "        vertical-align: middle;\n",
       "    }\n",
       "\n",
       "    .dataframe tbody tr th {\n",
       "        vertical-align: top;\n",
       "    }\n",
       "\n",
       "    .dataframe thead th {\n",
       "        text-align: right;\n",
       "    }\n",
       "</style>\n",
       "<table border=\"1\" class=\"dataframe\">\n",
       "  <thead>\n",
       "    <tr style=\"text-align: right;\">\n",
       "      <th></th>\n",
       "      <th>GS</th>\n",
       "      <th>S</th>\n",
       "      <th>ST</th>\n",
       "      <th>C</th>\n",
       "      <th>F</th>\n",
       "      <th>Y</th>\n",
       "      <th>R</th>\n",
       "      <th>P</th>\n",
       "      <th>V</th>\n",
       "      <th>Rezultat</th>\n",
       "    </tr>\n",
       "  </thead>\n",
       "  <tbody>\n",
       "    <tr>\n",
       "      <th>0</th>\n",
       "      <td>-1.400000</td>\n",
       "      <td>0.200000</td>\n",
       "      <td>0.800000</td>\n",
       "      <td>1.200000</td>\n",
       "      <td>2.200000</td>\n",
       "      <td>1.000000</td>\n",
       "      <td>0.200000</td>\n",
       "      <td>-1.600000</td>\n",
       "      <td>-192.30</td>\n",
       "      <td>H</td>\n",
       "    </tr>\n",
       "    <tr>\n",
       "      <th>1</th>\n",
       "      <td>0.200000</td>\n",
       "      <td>2.400000</td>\n",
       "      <td>1.600000</td>\n",
       "      <td>-1.400000</td>\n",
       "      <td>-1.400000</td>\n",
       "      <td>-1.000000</td>\n",
       "      <td>0.200000</td>\n",
       "      <td>1.600000</td>\n",
       "      <td>-34.70</td>\n",
       "      <td>H</td>\n",
       "    </tr>\n",
       "    <tr>\n",
       "      <th>2</th>\n",
       "      <td>0.200000</td>\n",
       "      <td>4.200000</td>\n",
       "      <td>3.600000</td>\n",
       "      <td>0.400000</td>\n",
       "      <td>0.400000</td>\n",
       "      <td>-0.800000</td>\n",
       "      <td>0.000000</td>\n",
       "      <td>-0.400000</td>\n",
       "      <td>-58.28</td>\n",
       "      <td>A</td>\n",
       "    </tr>\n",
       "    <tr>\n",
       "      <th>3</th>\n",
       "      <td>0.400000</td>\n",
       "      <td>5.400000</td>\n",
       "      <td>2.200000</td>\n",
       "      <td>4.600000</td>\n",
       "      <td>-3.800000</td>\n",
       "      <td>-0.200000</td>\n",
       "      <td>0.000000</td>\n",
       "      <td>-0.400000</td>\n",
       "      <td>-14.40</td>\n",
       "      <td>A</td>\n",
       "    </tr>\n",
       "    <tr>\n",
       "      <th>4</th>\n",
       "      <td>2.200000</td>\n",
       "      <td>4.600000</td>\n",
       "      <td>2.600000</td>\n",
       "      <td>1.200000</td>\n",
       "      <td>-5.000000</td>\n",
       "      <td>-1.000000</td>\n",
       "      <td>-0.400000</td>\n",
       "      <td>2.200000</td>\n",
       "      <td>281.48</td>\n",
       "      <td>H</td>\n",
       "    </tr>\n",
       "    <tr>\n",
       "      <th>...</th>\n",
       "      <td>...</td>\n",
       "      <td>...</td>\n",
       "      <td>...</td>\n",
       "      <td>...</td>\n",
       "      <td>...</td>\n",
       "      <td>...</td>\n",
       "      <td>...</td>\n",
       "      <td>...</td>\n",
       "      <td>...</td>\n",
       "      <td>...</td>\n",
       "    </tr>\n",
       "    <tr>\n",
       "      <th>4645</th>\n",
       "      <td>-0.013805</td>\n",
       "      <td>2.239528</td>\n",
       "      <td>0.474690</td>\n",
       "      <td>0.875870</td>\n",
       "      <td>2.188909</td>\n",
       "      <td>0.170973</td>\n",
       "      <td>-0.004602</td>\n",
       "      <td>0.221475</td>\n",
       "      <td>89.58</td>\n",
       "      <td>H</td>\n",
       "    </tr>\n",
       "    <tr>\n",
       "      <th>4646</th>\n",
       "      <td>-0.499308</td>\n",
       "      <td>-1.485124</td>\n",
       "      <td>-1.889293</td>\n",
       "      <td>-0.638730</td>\n",
       "      <td>-0.224961</td>\n",
       "      <td>-0.177910</td>\n",
       "      <td>-0.105691</td>\n",
       "      <td>-0.193652</td>\n",
       "      <td>-407.55</td>\n",
       "      <td>A</td>\n",
       "    </tr>\n",
       "    <tr>\n",
       "      <th>4647</th>\n",
       "      <td>-0.401450</td>\n",
       "      <td>-2.026038</td>\n",
       "      <td>-2.434410</td>\n",
       "      <td>-0.831466</td>\n",
       "      <td>-0.272358</td>\n",
       "      <td>-0.120083</td>\n",
       "      <td>-0.004285</td>\n",
       "      <td>-0.127115</td>\n",
       "      <td>-877.35</td>\n",
       "      <td>A</td>\n",
       "    </tr>\n",
       "    <tr>\n",
       "      <th>4648</th>\n",
       "      <td>0.468326</td>\n",
       "      <td>2.415215</td>\n",
       "      <td>1.804581</td>\n",
       "      <td>1.154299</td>\n",
       "      <td>-0.607805</td>\n",
       "      <td>-0.477206</td>\n",
       "      <td>-0.058145</td>\n",
       "      <td>0.677885</td>\n",
       "      <td>39.50</td>\n",
       "      <td>A</td>\n",
       "    </tr>\n",
       "    <tr>\n",
       "      <th>4649</th>\n",
       "      <td>0.217782</td>\n",
       "      <td>1.683792</td>\n",
       "      <td>-0.220983</td>\n",
       "      <td>0.333333</td>\n",
       "      <td>0.873724</td>\n",
       "      <td>0.071614</td>\n",
       "      <td>0.006314</td>\n",
       "      <td>0.380125</td>\n",
       "      <td>-139.30</td>\n",
       "      <td>A</td>\n",
       "    </tr>\n",
       "  </tbody>\n",
       "</table>\n",
       "<p>4650 rows × 10 columns</p>\n",
       "</div>"
      ],
      "text/plain": [
       "            GS         S        ST         C         F         Y         R  \\\n",
       "0    -1.400000  0.200000  0.800000  1.200000  2.200000  1.000000  0.200000   \n",
       "1     0.200000  2.400000  1.600000 -1.400000 -1.400000 -1.000000  0.200000   \n",
       "2     0.200000  4.200000  3.600000  0.400000  0.400000 -0.800000  0.000000   \n",
       "3     0.400000  5.400000  2.200000  4.600000 -3.800000 -0.200000  0.000000   \n",
       "4     2.200000  4.600000  2.600000  1.200000 -5.000000 -1.000000 -0.400000   \n",
       "...        ...       ...       ...       ...       ...       ...       ...   \n",
       "4645 -0.013805  2.239528  0.474690  0.875870  2.188909  0.170973 -0.004602   \n",
       "4646 -0.499308 -1.485124 -1.889293 -0.638730 -0.224961 -0.177910 -0.105691   \n",
       "4647 -0.401450 -2.026038 -2.434410 -0.831466 -0.272358 -0.120083 -0.004285   \n",
       "4648  0.468326  2.415215  1.804581  1.154299 -0.607805 -0.477206 -0.058145   \n",
       "4649  0.217782  1.683792 -0.220983  0.333333  0.873724  0.071614  0.006314   \n",
       "\n",
       "             P       V Rezultat  \n",
       "0    -1.600000 -192.30        H  \n",
       "1     1.600000  -34.70        H  \n",
       "2    -0.400000  -58.28        A  \n",
       "3    -0.400000  -14.40        A  \n",
       "4     2.200000  281.48        H  \n",
       "...        ...     ...      ...  \n",
       "4645  0.221475   89.58        H  \n",
       "4646 -0.193652 -407.55        A  \n",
       "4647 -0.127115 -877.35        A  \n",
       "4648  0.677885   39.50        A  \n",
       "4649  0.380125 -139.30        A  \n",
       "\n",
       "[4650 rows x 10 columns]"
      ]
     },
     "execution_count": 3,
     "metadata": {},
     "output_type": "execute_result"
    }
   ],
   "source": [
    "df"
   ]
  },
  {
   "cell_type": "code",
   "execution_count": 4,
   "metadata": {},
   "outputs": [
    {
     "name": "stdout",
     "output_type": "stream",
     "text": [
      "<class 'pandas.core.frame.DataFrame'>\n",
      "RangeIndex: 4650 entries, 0 to 4649\n",
      "Data columns (total 10 columns):\n",
      " #   Column    Non-Null Count  Dtype  \n",
      "---  ------    --------------  -----  \n",
      " 0   GS        4650 non-null   float64\n",
      " 1   S         4650 non-null   float64\n",
      " 2   ST        4650 non-null   float64\n",
      " 3   C         4650 non-null   float64\n",
      " 4   F         4650 non-null   float64\n",
      " 5   Y         4650 non-null   float64\n",
      " 6   R         4650 non-null   float64\n",
      " 7   P         4650 non-null   float64\n",
      " 8   V         4650 non-null   float64\n",
      " 9   Rezultat  4650 non-null   object \n",
      "dtypes: float64(9), object(1)\n",
      "memory usage: 363.4+ KB\n"
     ]
    }
   ],
   "source": [
    "df.info()"
   ]
  },
  {
   "cell_type": "markdown",
   "metadata": {},
   "source": [
    "Za pomocą funkcji \"df.info()\" można zauważyć, że tabela posiada kolumny liczbowe oraz jedną z danymi kategoryzującymi."
   ]
  },
  {
   "cell_type": "markdown",
   "metadata": {},
   "source": [
    "W następnym kroku należy przetworzyć etykiety klas w liczby całkowite, aby mogły zostać użyte podczas obliczeń."
   ]
  },
  {
   "cell_type": "code",
   "execution_count": 5,
   "metadata": {},
   "outputs": [
    {
     "name": "stdout",
     "output_type": "stream",
     "text": [
      "Klasy:  ['A' 'D' 'H']\n"
     ]
    }
   ],
   "source": [
    "from sklearn.preprocessing import LabelEncoder\n",
    "\n",
    "X = df.iloc[:,:9].values\n",
    "y = df.iloc[:,9].values\n",
    "le = LabelEncoder()\n",
    "y = le.fit_transform(y)\n",
    "print(\"Klasy: \",le.classes_)"
   ]
  },
  {
   "cell_type": "markdown",
   "metadata": {},
   "source": [
    "W dalszej kolejności rozdzielono dane na 70% próbek uczących i 30% próbek testowych.\n",
    "<br>Za pomocą funkcji \"stratify\" przemieszano kolejność próbek, aby w zbiorze danych testowych oraz uczących była taka sama proporcja pierwotnych klas."
   ]
  },
  {
   "cell_type": "code",
   "execution_count": 6,
   "metadata": {},
   "outputs": [],
   "source": [
    "from sklearn.model_selection import train_test_split\n",
    "\n",
    "X_train, X_test, y_train, y_test = \\\n",
    "train_test_split(X,y, test_size=0.3, stratify=y, random_state=1)"
   ]
  },
  {
   "cell_type": "markdown",
   "metadata": {},
   "source": [
    "Za pomocą algorytmu losowego lasu można uzyskać ważność cechy jako uśredniony spadek zanieczyszczeń (im mniejsze zanieczyszczenie tym lepiej została rozdzielona dana klasa)\n",
    "<br> Uśredniony spadek zanieczyszczeń został obliczony na podstawie średniej redukcji zanieczyszczeń w pięciuset drzewach decyzyjnych."
   ]
  },
  {
   "cell_type": "code",
   "execution_count": 7,
   "metadata": {},
   "outputs": [
    {
     "name": "stdout",
     "output_type": "stream",
     "text": [
      " 1) V               0.139208\n",
      " 2) P               0.121752\n",
      " 3) C               0.112147\n",
      " 4) S               0.110300\n",
      " 5) ST              0.108717\n",
      " 6) GS              0.108393\n",
      " 7) Y               0.101682\n",
      " 8) F               0.100188\n",
      " 9) R               0.097613\n"
     ]
    },
    {
     "data": {
      "image/png": "[encoded data removed]",
      "text/plain": [
       "<Figure size 432x288 with 1 Axes>"
      ]
     },
     "metadata": {
      "needs_background": "light"
     },
     "output_type": "display_data"
    }
   ],
   "source": [
    "from sklearn.ensemble import RandomForestClassifier\n",
    "\n",
    "feat_labels = df.columns[:18]\n",
    "\n",
    "forest = RandomForestClassifier(n_estimators=500, random_state=1)\n",
    "\n",
    "forest.fit(X_train, y_train)\n",
    "importances = forest.feature_importances_\n",
    "\n",
    "indices = np.argsort(importances)[::-1]\n",
    "\n",
    "for f in range(X_train.shape[1]):\n",
    "    print(\"%2d) %-*s %f\" % (f + 1, 15,\n",
    "                            feat_labels[indices[f]],\n",
    "                            importances[indices[f]]))\n",
    "    \n",
    "plt.title(\"Istotność cech\")\n",
    "plt.bar(range(X_train.shape[1]),\n",
    "       importances[indices],\n",
    "       align='center')\n",
    "plt.xticks(range(X_train.shape[1]),\n",
    "          feat_labels[indices], rotation=90)\n",
    "plt.xlim([-1, X_train.shape[1]])\n",
    "plt.tight_layout()\n",
    "plt.show()"
   ]
  },
  {
   "cell_type": "markdown",
   "metadata": {},
   "source": [
    "Dzięki prostej implementacji można poglądowo ocenić, że różnica w wartości drużyny w danym meczu jest najbardziej rozróżnialną cechą. Najmniej rozróżnialną cechą jest różnica w czerwonych kartkach pomiędzy drużynami. "
   ]
  },
  {
   "cell_type": "markdown",
   "metadata": {},
   "source": [
    "Aby użyć klasyfikatora liniowego (w tym przypadku regresja logistyczna) należy przeskalować cechy. W tym celu przeprowadzono standaryzację zmiennych i wstępną prognozę:"
   ]
  },
  {
   "cell_type": "code",
   "execution_count": 8,
   "metadata": {},
   "outputs": [
    {
     "name": "stdout",
     "output_type": "stream",
     "text": [
      "Dokładność testu 0.556\n"
     ]
    }
   ],
   "source": [
    "from sklearn.preprocessing import StandardScaler\n",
    "from sklearn.decomposition import PCA\n",
    "from sklearn.linear_model import LogisticRegression\n",
    "from sklearn.pipeline import make_pipeline\n",
    "\n",
    "pipe_lr = make_pipeline(StandardScaler(),\n",
    "                       LogisticRegression(random_state=1))\n",
    "pipe_lr.fit(X_train, y_train)\n",
    "y_pred = pipe_lr.predict(X_test)\n",
    "print('Dokładność testu %.3f' % (pipe_lr.score(X_test, y_test)))"
   ]
  },
  {
   "cell_type": "markdown",
   "metadata": {},
   "source": [
    "Następnie użyto k-krotnego sprawdzianu krzyżowego. Polega on na rozdzieleniu zestawu danych na k niezastępowanych podzbiorów, gdzie k-1 podzbiorów zostaje użyte do uczenia modelu, a jeden do pomiaru skuteczności. Operacja wykonywana jest k-krotnie, więc finalnie otrzymuje się k modeli i pomiarów skuteczności."
   ]
  },
  {
   "cell_type": "code",
   "execution_count": 9,
   "metadata": {},
   "outputs": [
    {
     "name": "stdout",
     "output_type": "stream",
     "text": [
      "Wyniki dokładności sprawdzianu: [0.56748466 0.54294479 0.55521472 0.52147239 0.54601227 0.52615385\n",
      " 0.53846154 0.50153846 0.52923077 0.56923077]\n",
      "\n",
      "Dokładność sprawdzianu: 0.540 +/- 0.020\n"
     ]
    }
   ],
   "source": [
    "from sklearn.model_selection import cross_val_score\n",
    "scores = cross_val_score(estimator=pipe_lr,\n",
    "                         X=X_train,\n",
    "                         y=y_train,\n",
    "                         cv=10,\n",
    "                         n_jobs = -1)\n",
    "print('Wyniki dokładności sprawdzianu: %s' % scores)\n",
    "print('\\nDokładność sprawdzianu: %.3f +/- %.3f' % (np.mean(scores), np.std(scores)))"
   ]
  },
  {
   "cell_type": "markdown",
   "metadata": {},
   "source": [
    "### Diagnoza algorytmu poprzez krzywe uczenia oraz krzywe walidacji"
   ]
  },
  {
   "cell_type": "code",
   "execution_count": 10,
   "metadata": {},
   "outputs": [
    {
     "data": {
      "image/png": "[encoded data removed]",
      "text/plain": [
       "<Figure size 432x288 with 1 Axes>"
      ]
     },
     "metadata": {
      "needs_background": "light"
     },
     "output_type": "display_data"
    }
   ],
   "source": [
    "from sklearn.model_selection import learning_curve\n",
    "pipe_lr = make_pipeline(StandardScaler(),\n",
    "                       LogisticRegression(penalty='l2', random_state=1))\n",
    "train_sizes, train_scores, test_scores =\\\n",
    "            learning_curve(estimator=pipe_lr,\n",
    "                          X=X_train,\n",
    "                          y=y_train,\n",
    "                          train_sizes = np.linspace(0.1, 1.0, 10),\n",
    "                          cv=10,\n",
    "                          n_jobs=-1)\n",
    "train_mean = np.mean(train_scores, axis=1)\n",
    "train_std = np.std(train_scores, axis=1)\n",
    "test_mean = np.mean(test_scores, axis=1)\n",
    "test_std = np.std(test_scores, axis=1)\n",
    "\n",
    "plt.plot(train_sizes, train_mean, color='blue', marker='o', markersize=5, label='Dokładność uczenia')\n",
    "plt.fill_between(train_sizes,\n",
    "                train_mean + train_std,\n",
    "                train_mean - train_std,\n",
    "                alpha = 0.15, color='blue')\n",
    "plt.plot(train_sizes, test_mean,\n",
    "        color='green', linestyle = '--', marker='s', markersize=5,\n",
    "        label='Dokładność walidacji')\n",
    "plt.fill_between(train_sizes,\n",
    "                test_mean + test_std,\n",
    "                test_mean - test_std,\n",
    "                alpha=0.15, color='green')\n",
    "plt.grid()\n",
    "plt.xlabel('Liczba próbek uczących')\n",
    "plt.ylabel('Dokładność')\n",
    "plt.legend(loc='lower right')\n",
    "plt.tight_layout()\n",
    "plt.ylim([0.45, 0.6])\n",
    "plt.show()"
   ]
  },
  {
   "cell_type": "markdown",
   "metadata": {},
   "source": [
    "Wykres przedstawia krzywą uczenia modelu. Wykonano dziesięć równomierne rozłożonych zestawów uczących, za pomocą k-krotnego sprawdzianu krzyżowego. Niebieska linia oznacza dokładność uczenia, a zielona dokładność walidacji. Wypełnienie w kolorach danej linii oznacza odchylenie standardowe średnich wartości. <br>Można zauważyć że model posiada duże obciążenie, czyli charakteryzuje go niska dokładność uczenia i walidacji. Niestety, model nie dopasował się odpowiednio do danych uczących przy prawie 3000 próbkach uczących."
   ]
  },
  {
   "cell_type": "code",
   "execution_count": 11,
   "metadata": {},
   "outputs": [
    {
     "data": {
      "image/png": "[encoded data removed]",
      "text/plain": [
       "<Figure size 432x288 with 1 Axes>"
      ]
     },
     "metadata": {
      "needs_background": "light"
     },
     "output_type": "display_data"
    }
   ],
   "source": [
    "from sklearn.model_selection import validation_curve\n",
    "param_range = [0.001, 0.01, 0.1, 1.0, 10.0, 100.0]\n",
    "train_scores,  test_scores = validation_curve(estimator = pipe_lr,\n",
    "                                             X=X_train,\n",
    "                                             y=y_train,\n",
    "                                             param_name='logisticregression__C',\n",
    "                                             param_range=param_range,\n",
    "                                             cv=10)\n",
    "train_mean = np.mean(train_scores, axis=1)\n",
    "train_std = np.std(train_scores, axis=1)\n",
    "test_mean = np.mean(test_scores, axis=1)\n",
    "test_std = np.std(test_scores, axis=1)\n",
    "plt.plot(param_range, train_mean, color='blue', marker='o', markersize=5, label='Dokładność uczenia')\n",
    "plt.fill_between(param_range, train_mean + train_std,\n",
    "               train_mean - train_std, alpha = 0.15, color='blue')\n",
    "plt.plot(param_range, test_mean, color='green', linestyle='--',\n",
    "        marker='s', markersize=5,\n",
    "        label = 'Dokładność walidacji')\n",
    "plt.fill_between(param_range,\n",
    "                test_mean + test_std,\n",
    "                test_mean - test_std,\n",
    "                alpha = 0.15, color='green')\n",
    "plt.grid()\n",
    "plt.xscale('log')\n",
    "plt.legend(loc='lower right')\n",
    "plt.xlabel('Parametr C')\n",
    "plt.ylabel('Dokładność')\n",
    "plt.ylim([0.5,0.58])\n",
    "plt.tight_layout()\n",
    "plt.show()"
   ]
  },
  {
   "cell_type": "markdown",
   "metadata": {},
   "source": [
    "* Im większy parametr C, tym bardziej model 'kara' za błędy podczas uczenia *"
   ]
  },
  {
   "cell_type": "markdown",
   "metadata": {},
   "source": [
    "Do powyższych obliczeń zdefiniowano przedział wartości z odwrotnością parametru regularyzacji C, aby sprawdzić dla jakiej wartości parametru model wykazuje najwyższą dokładność. Okazuje się, że różnica jest mocno znikoma, a od C=0.1 do C=100 model nie wykazuje znaczących zmian w dokładności."
   ]
  },
  {
   "cell_type": "markdown",
   "metadata": {},
   "source": [
    "### Dostrajanie modeli uczenia maszynowego za pomocą metody przeszukiwania siatki"
   ]
  },
  {
   "cell_type": "markdown",
   "metadata": {},
   "source": [
    "Metoda przeszukiwania siatki działa w bardzo prosty sposób. Użytkownik wprowadza listę paramtrów modelu dla których zamierza znaleźć najwyższą dokładność modelu, a algorytm przeszukuje wszystkie możliwe opcje. Mimo prostoty, ten sposób potrzebuje dużych zasobów mocy komputera."
   ]
  },
  {
   "cell_type": "code",
   "execution_count": 12,
   "metadata": {
    "scrolled": false
   },
   "outputs": [
    {
     "name": "stdout",
     "output_type": "stream",
     "text": [
      "0.5360896649362907\n",
      "{'svc__C': 1.0, 'svc__kernel': 'linear'}\n"
     ]
    }
   ],
   "source": [
    "from sklearn.svm import SVC\n",
    "from sklearn.model_selection import GridSearchCV\n",
    "\n",
    "scorer = sklearn.metrics.make_scorer(sklearn.metrics.accuracy_score)\n",
    "\n",
    "pipe_svc = make_pipeline(StandardScaler(),\n",
    "                         SVC(random_state=1))\n",
    "\n",
    "param_range = [0.0001, 0.001, 0.01, 0.1, 1.0, 10.0, 100.0, 1000.0]\n",
    "\n",
    "param_grid = [{'svc__C': param_range, \n",
    "               'svc__kernel': ['linear']},\n",
    "              {'svc__C': param_range, \n",
    "               'svc__gamma': param_range, \n",
    "               'svc__kernel': ['rbf']}]\n",
    "\n",
    "gs = GridSearchCV(estimator=pipe_svc, \n",
    "                  param_grid=param_grid, \n",
    "                  scoring=scorer, \n",
    "                  refit=True,\n",
    "                  cv=10,\n",
    "                  n_jobs=-1)\n",
    "gs = gs.fit(X_train, y_train)\n",
    "print(gs.best_score_)\n",
    "print(gs.best_params_)"
   ]
  },
  {
   "cell_type": "markdown",
   "metadata": {},
   "source": [
    "Test przeprowadzono za pomocą maszyny wektorów nośnych (SVM). Najwyższe dopasowanie modelu otrzymano przy parametrach: C:1, jądro modelu: liniowe."
   ]
  },
  {
   "cell_type": "code",
   "execution_count": 13,
   "metadata": {},
   "outputs": [
    {
     "name": "stdout",
     "output_type": "stream",
     "text": [
      "Dokładność walidacji: 0.558\n"
     ]
    }
   ],
   "source": [
    "clf = gs.best_estimator_\n",
    "\n",
    "print('Dokładność walidacji: %.3f' % clf.score(X_test, y_test))"
   ]
  },
  {
   "cell_type": "markdown",
   "metadata": {},
   "source": [
    "Po oszacowaniu skuteczności poprzez użycie niezależnej bazy danych otrzymano dokładność walidacji na poziomie 0.558."
   ]
  },
  {
   "cell_type": "markdown",
   "metadata": {},
   "source": [
    "### Zagnieżdzony sprawdziań krzyżowy - selekcja algorytmu"
   ]
  },
  {
   "cell_type": "markdown",
   "metadata": {},
   "source": [
    "Zastosowano kroswalidację 5x2."
   ]
  },
  {
   "cell_type": "code",
   "execution_count": 14,
   "metadata": {},
   "outputs": [
    {
     "name": "stdout",
     "output_type": "stream",
     "text": [
      "Dokładność sprawdzianu krzyżowego: 0.533 +/- 0.009\n"
     ]
    }
   ],
   "source": [
    "from sklearn.model_selection import cross_validate\n",
    "gs = GridSearchCV(estimator=pipe_svc,\n",
    "                 param_grid=param_grid,\n",
    "                 scoring=scorer,\n",
    "                 cv=2)\n",
    "scores = cross_validate(gs, X_train, y_train, scoring=scorer, cv=5)\n",
    "print(\"Dokładność sprawdzianu krzyżowego: %.3f +/- %.3f\" % (np.mean(scores['test_score'])\n",
    "                                                            , np.std(scores['test_score'])))"
   ]
  },
  {
   "cell_type": "code",
   "execution_count": 15,
   "metadata": {},
   "outputs": [
    {
     "name": "stdout",
     "output_type": "stream",
     "text": [
      "Dokładność sprawdzianu krzyżowego: 0.527 +/- 0.012\n"
     ]
    }
   ],
   "source": [
    "from sklearn.tree import DecisionTreeClassifier\n",
    "\n",
    "gs = GridSearchCV(estimator=DecisionTreeClassifier(random_state=1),\n",
    "                 param_grid=[{'max_depth': [1,2,3,4,5,6,7,None]}],\n",
    "                 scoring=scorer, cv=2)\n",
    "\n",
    "scores = cross_val_score(gs,\n",
    "                        X_train,\n",
    "                        y_train,\n",
    "                        scoring=scorer,\n",
    "                        cv=5)\n",
    "print(\"Dokładność sprawdzianu krzyżowego: %.3f +/- %.3f\" % (np.mean(scores), np.std(scores)))"
   ]
  },
  {
   "cell_type": "markdown",
   "metadata": {},
   "source": [
    "Na podstawie dwóch powyższych sprawdzianów stwierdzono, że minimalnie lepiej sprawdza się algorytm maszyn wektorów nośnych."
   ]
  },
  {
   "cell_type": "code",
   "execution_count": 16,
   "metadata": {
    "scrolled": true
   },
   "outputs": [
    {
     "data": {
      "image/png": "[encoded data removed]",
      "text/plain": [
       "<Figure size 432x288 with 1 Axes>"
      ]
     },
     "metadata": {
      "needs_background": "light"
     },
     "output_type": "display_data"
    }
   ],
   "source": [
    "import numpy as np\n",
    "import matplotlib.pyplot as plt\n",
    "from itertools import cycle\n",
    "from sklearn.metrics import roc_curve, auc\n",
    "from sklearn.model_selection import train_test_split\n",
    "from sklearn.preprocessing import label_binarize\n",
    "from sklearn.multiclass import OneVsRestClassifier\n",
    "from scipy import interp\n",
    "from sklearn.metrics import roc_auc_score\n",
    "\n",
    "y1 = label_binarize(y, classes=[0, 1, 2])\n",
    "n_classes = y1.shape[1]\n",
    "n_samples, n_features = X.shape\n",
    "\n",
    "X_train1, X_test1, y_train1, y_test1 = \\\n",
    "train_test_split(X,y1, test_size=0.3, stratify=y, random_state=1)\n",
    "\n",
    "classifier = OneVsRestClassifier(make_pipeline(StandardScaler(),\n",
    "                        LogisticRegression(penalty='l2', \n",
    "                                           random_state=1,\n",
    "                                           solver='lbfgs',\n",
    "                                           C=100.0)))\n",
    "\n",
    "y_score = classifier.fit(X_train1, y_train1).decision_function(X_test1)\n",
    "\n",
    "# Compute ROC curve and ROC area for each class\n",
    "fpr = dict()\n",
    "tpr = dict()\n",
    "roc_auc = dict()\n",
    "for i in range(n_classes):\n",
    "    fpr[i], tpr[i], _ = roc_curve(y_test1[:,i], y_score[:,i])\n",
    "    roc_auc[i] = auc(fpr[i], tpr[i])\n",
    "\n",
    "# Compute micro-average ROC curve and ROC area\n",
    "fpr[\"micro\"], tpr[\"micro\"], _ = roc_curve(y_test1.ravel(), y_score.ravel())\n",
    "roc_auc[\"micro\"] = auc(fpr[\"micro\"], tpr[\"micro\"])\n",
    "plt.figure()\n",
    "lw = 2\n",
    "plt.plot(fpr[2], tpr[2], color='darkorange',\n",
    "         lw=lw, label='Obszar pod krzywą ROC (area = %0.2f)' % roc_auc[2])\n",
    "plt.plot([0, 1], [0, 1], color='navy', lw=lw, linestyle='--')\n",
    "plt.xlim([0.0, 1.0])\n",
    "plt.ylim([0.0, 1.05])\n",
    "plt.xlabel('Odsetek fałszywie pozytywnych')\n",
    "plt.ylabel('Odsetek prawdziwie pozytywnych')\n",
    "plt.title('Charakterystyka pracy odbiornika')\n",
    "plt.legend(loc=\"lower right\")\n",
    "plt.show()"
   ]
  },
  {
   "cell_type": "markdown",
   "metadata": {},
   "source": [
    "Powyższy wykres przedstawia charakterystykę pracy odbiornika. Obszar pod krzywą ROC wynosi 0.72."
   ]
  },
  {
   "cell_type": "code",
   "execution_count": 17,
   "metadata": {
    "scrolled": true
   },
   "outputs": [
    {
     "data": {
      "image/png": "[encoded data removed]",
      "text/plain": [
       "<Figure size 432x288 with 1 Axes>"
      ]
     },
     "metadata": {
      "needs_background": "light"
     },
     "output_type": "display_data"
    }
   ],
   "source": [
    "from sklearn.metrics import roc_curve, auc\n",
    "from distutils.version import LooseVersion as Version\n",
    "from numpy import interp\n",
    "from sklearn.model_selection import StratifiedKFold\n",
    "\n",
    "# First aggregate all false positive rates\n",
    "all_fpr = np.unique(np.concatenate([fpr[i] for i in range(n_classes)]))\n",
    "\n",
    "# Then interpolate all ROC curves at this points\n",
    "mean_tpr = np.zeros_like(all_fpr)\n",
    "for i in range(n_classes):\n",
    "    mean_tpr += interp(all_fpr, fpr[i], tpr[i])\n",
    "\n",
    "# Finally average it and compute AUC\n",
    "mean_tpr /= n_classes\n",
    "\n",
    "fpr[\"macro\"] = all_fpr\n",
    "tpr[\"macro\"] = mean_tpr\n",
    "roc_auc[\"macro\"] = auc(fpr[\"macro\"], tpr[\"macro\"])\n",
    "\n",
    "# Plot all ROC curves\n",
    "plt.figure()\n",
    "plt.plot(fpr[\"micro\"], tpr[\"micro\"],\n",
    "         label='mikro-średnia krzywej ROC (area = {0:0.2f})'\n",
    "               ''.format(roc_auc[\"micro\"]),\n",
    "         color='deeppink', linestyle=':', linewidth=4)\n",
    "\n",
    "# plt.plot(fpr[\"macro\"], tpr[\"macro\"],\n",
    "#          label='makro-średnia krzywej ROC (area = {0:0.2f})'\n",
    "#                ''.format(roc_auc[\"macro\"]),\n",
    "#          color='navy', linestyle=':', linewidth=4)\n",
    "\n",
    "colors = cycle(['aqua', 'darkorange', 'cornflowerblue'])\n",
    "for i, color in zip(range(n_classes), colors):\n",
    "    plt.plot(fpr[i], tpr[i], color=color, lw=lw,\n",
    "             label='Krzywa ROC dla klasy {0} (area = {1:0.2f})'\n",
    "             ''.format(i, roc_auc[i]))\n",
    "\n",
    "plt.plot([0, 1], [0, 1], 'k--', lw=lw)\n",
    "plt.xlim([0.0, 1.0])\n",
    "plt.ylim([0.0, 1.05])\n",
    "plt.xlabel('Odsetek fałszywie pozytywnych')\n",
    "plt.ylabel('Odsetek prawdziwie pozytywnych')\n",
    "plt.title('Charakteryzacja pracy odbiornika dla problemu wieloklasowego')\n",
    "plt.legend(loc=\"lower right\")\n",
    "plt.show()"
   ]
  },
  {
   "cell_type": "markdown",
   "metadata": {},
   "source": [
    "Powyższy wykres to rozszerzona wersja wykresu z krzywą ROC. W celu lepszej interpretacji wyników w modelu wieloklasowym, podzielono obszary pod krzywą ROC na każdą etykietę. Z racji problemu wieloklasowe, użyto metryki \"ROC - jeden przeciw reszcie\". Dodano również krzywą z uśrednionym (mikro) wynikiem dla wszystkich trzech etykiet. Klasa 0 i 2 to wygrana gospodarza oraz gościa. Obszar pod krzywą ROC dla tych klas wynosi odpowiednio 0.74 i 0.72. Nie jest to zadowalający wynik, a na dodatek krzywa etykiety 1 (remis) zwraca bardzo podobną metrykę skuteczności co losowe zgadywanie. Dzięki temu wykresowi można założyć, że model całościowo posiada wysokie obciążenie, a prognozując remis jest równie skuteczny co rzut monetą."
   ]
  },
  {
   "cell_type": "markdown",
   "metadata": {},
   "source": [
    "## Zastosowanie uczenia zespołowego do ulepszenia modelu "
   ]
  },
  {
   "cell_type": "markdown",
   "metadata": {},
   "source": [
    "### Zastosowanie reguły głosowania większościowego do prognozy"
   ]
  },
  {
   "cell_type": "markdown",
   "metadata": {},
   "source": [
    "W dalszej części pracy sprawdzono, w jakim każdy z klasyfikatorów (regresja logistyczna, drzewo decyzyjne oraz -najbliższych sąsiadów) radzą sobie z klasyfikacją etykiet a następnie - czy połączenie trzech klasyfikatorów w głosowanie większościowe zwiększy dokładność modelu. Metryka skuteczności ze względu na charakter modelu jako wieloklasowy, to \"ROC - jeden przeciw reszcie\"."
   ]
  },
  {
   "cell_type": "code",
   "execution_count": 18,
   "metadata": {},
   "outputs": [
    {
     "name": "stdout",
     "output_type": "stream",
     "text": [
      "Dziesięciokrotny sprawdzian krzyżowy:\n",
      "\n",
      "Obszar pod krzywą ROC: 0.66 (+/- 0.03) [Regresja logistyczna]\n",
      "Obszar pod krzywą ROC: 0.60 (+/- 0.02) [Drzewo decyzyjne]\n",
      "Obszar pod krzywą ROC: 0.55 (+/- 0.02) [K-najbliższych sąsiadów]\n"
     ]
    }
   ],
   "source": [
    "from sklearn.neighbors import KNeighborsClassifier\n",
    "from sklearn.pipeline import Pipeline\n",
    "from sklearn.metrics import roc_auc_score\n",
    "from sklearn.model_selection import cross_validate\n",
    "\n",
    "clf1 = LogisticRegression(penalty='l2',\n",
    "                        C=0.001,\n",
    "                        random_state=1)\n",
    "clf2 = DecisionTreeClassifier(max_depth=1,\n",
    "                             criterion='entropy',\n",
    "                             random_state=1)\n",
    "clf3 = KNeighborsClassifier(n_neighbors=1,\n",
    "                           p=2,\n",
    "                           metric='minkowski')\n",
    "pipe1 = Pipeline([['sc', StandardScaler()],\n",
    "                   ['clf',clf1]])\n",
    "pipe3 = Pipeline([['sc', StandardScaler()],\n",
    "                  ['clf', clf3]])\n",
    "\n",
    "clf_labels = ['Regresja logistyczna', 'Drzewo decyzyjne', 'K-najbliższych sąsiadów']\n",
    "print('Dziesięciokrotny sprawdzian krzyżowy:\\n')\n",
    "for clf, label in zip([pipe1, clf2, pipe3], clf_labels):\n",
    "    scores = cross_validate(estimator=clf,\n",
    "                            X=X_train,\n",
    "                            y=y_train,\n",
    "                            cv=10,\n",
    "                            scoring='roc_auc_ovr')\n",
    "    print(\"Obszar pod krzywą ROC: %0.2f (+/- %0.2f) [%s]\" %\n",
    "          (scores['test_score'].mean(),scores['test_score'].std(), label))"
   ]
  },
  {
   "cell_type": "markdown",
   "metadata": {},
   "source": [
    "Po interpretacji metryki skuteczności modelu można zauważyć, że najwyższą dokładność generuje algorytm regresji logistycznej (0.66). Drzewo decyzyjne radzi sobie gorzej (0.6) a k-najbliżsi sąsiedzi generują wynik na poziomie 0.55."
   ]
  },
  {
   "cell_type": "markdown",
   "metadata": {},
   "source": [
    "## Złączenie klasyfikatorów w celu stworzenia głosowania większościowego"
   ]
  },
  {
   "cell_type": "code",
   "execution_count": 19,
   "metadata": {},
   "outputs": [
    {
     "name": "stdout",
     "output_type": "stream",
     "text": [
      "Obszar pod krzywą ROC: 0.66 (+/- 0.03) [Regresja logistyczna]\n",
      "Obszar pod krzywą ROC: 0.60 (+/- 0.02) [Drzewo decyzyjne]\n",
      "Obszar pod krzywą ROC: 0.55 (+/- 0.02) [K-najbliższych sąsiadów]\n",
      "Obszar pod krzywą ROC: 0.63 (+/- 0.03) [Głosowanie większościowe]\n"
     ]
    }
   ],
   "source": [
    "from sklearn.ensemble import VotingClassifier\n",
    "from mlxtend.classifier import EnsembleVoteClassifier\n",
    "\n",
    "mv_clf = EnsembleVoteClassifier(clfs=[pipe1,clf2,pipe3],voting='hard')\n",
    "clf_labels = ['Regresja logistyczna', 'Drzewo decyzyjne', 'K-najbliższych sąsiadów']\n",
    "clf_labels += ['Głosowanie większościowe']\n",
    "all_clf = [pipe1, clf2, pipe3, mv_clf]\n",
    "for clf, label in zip(all_clf, clf_labels):\n",
    "    scores = cross_validate(estimator=clf,\n",
    "                            X=X_train,\n",
    "                            y=y_train,\n",
    "                            cv=10,\n",
    "                            scoring='roc_auc_ovr')\n",
    "    print(\"Obszar pod krzywą ROC: %0.2f (+/- %0.2f) [%s]\" %\n",
    "          (scores['test_score'].mean(),scores['test_score'].std(), label))"
   ]
  },
  {
   "cell_type": "markdown",
   "metadata": {},
   "source": [
    "Niestety, głosowanie większościowe nie poprawiło skuteczności predykcji."
   ]
  },
  {
   "cell_type": "code",
   "execution_count": 20,
   "metadata": {},
   "outputs": [
    {
     "name": "stdout",
     "output_type": "stream",
     "text": [
      "0.521 +/- 0.01 {'decisiontreeclassifier__max_depth': 1, 'pipeline-1__clf__C': 0.001}\n",
      "0.523 +/- 0.01 {'decisiontreeclassifier__max_depth': 1, 'pipeline-1__clf__C': 0.1}\n",
      "0.523 +/- 0.01 {'decisiontreeclassifier__max_depth': 1, 'pipeline-1__clf__C': 100.0}\n",
      "0.535 +/- 0.01 {'decisiontreeclassifier__max_depth': 2, 'pipeline-1__clf__C': 0.001}\n",
      "0.535 +/- 0.01 {'decisiontreeclassifier__max_depth': 2, 'pipeline-1__clf__C': 0.1}\n",
      "0.535 +/- 0.01 {'decisiontreeclassifier__max_depth': 2, 'pipeline-1__clf__C': 100.0}\n"
     ]
    }
   ],
   "source": [
    "from sklearn.model_selection import GridSearchCV\n",
    "\n",
    "params = {'decisiontreeclassifier__max_depth': [1, 2],\n",
    "          'pipeline-1__clf__C': [0.001, 0.1, 100.0]}\n",
    "\n",
    "grid = GridSearchCV(estimator=mv_clf,\n",
    "                    param_grid=params,\n",
    "                    cv=10,\n",
    "                    scoring='accuracy')\n",
    "grid.fit(X_train, y_train)\n",
    "\n",
    "for r, _ in enumerate(grid.cv_results_['mean_test_score']):\n",
    "    print(\"%0.3f +/- %0.2f %r\"\n",
    "          % (grid.cv_results_['mean_test_score'][r], \n",
    "             grid.cv_results_['std_test_score'][r] / 2.0, \n",
    "             grid.cv_results_['params'][r]))"
   ]
  },
  {
   "cell_type": "code",
   "execution_count": 21,
   "metadata": {},
   "outputs": [
    {
     "name": "stdout",
     "output_type": "stream",
     "text": [
      "Najlepsze parametry: {'decisiontreeclassifier__max_depth': 2, 'pipeline-1__clf__C': 0.1}\n",
      "Dokładność: 0.54\n"
     ]
    }
   ],
   "source": [
    "print('Najlepsze parametry: %s' % grid.best_params_)\n",
    "print('Dokładność: %.2f' % grid.best_score_)"
   ]
  },
  {
   "cell_type": "markdown",
   "metadata": {},
   "source": [
    "Wykorzystano klasyfikator głosowania większościowego, więc wyodrębniono (w celach naukowych) najlepsze parametry dla modeli w ogólnym klasyfikatorze."
   ]
  },
  {
   "cell_type": "markdown",
   "metadata": {},
   "source": [
    "### Agregacja"
   ]
  },
  {
   "cell_type": "markdown",
   "metadata": {},
   "source": [
    "Aby polepszyć dokładność modelu, użyto techniki agregacji i porównano z algorytmem drzewa decyzyjnego:\n",
    "<br>*Teoretycznie dokładność powinna wzrosnąć.*"
   ]
  },
  {
   "cell_type": "code",
   "execution_count": 22,
   "metadata": {},
   "outputs": [],
   "source": [
    "from sklearn.ensemble import BaggingClassifier\n",
    "from sklearn.tree import DecisionTreeClassifier\n",
    "\n",
    "tree = DecisionTreeClassifier(criterion='entropy', \n",
    "                              max_depth=2,\n",
    "                              random_state=1)\n",
    "\n",
    "bag = BaggingClassifier(base_estimator=tree,\n",
    "                        n_estimators=500, \n",
    "                        max_samples=1.0, \n",
    "                        max_features=1.0, \n",
    "                        bootstrap=True, \n",
    "                        bootstrap_features=False, \n",
    "                        n_jobs=-1, \n",
    "                        random_state=1)"
   ]
  },
  {
   "cell_type": "code",
   "execution_count": 23,
   "metadata": {},
   "outputs": [
    {
     "name": "stdout",
     "output_type": "stream",
     "text": [
      "Dokładność drzewa decyzyjnego dla danych uczących/testowych 0.531/0.551\n",
      "Dokładność agregacji dla danych uczących/testowych 0.540/0.559\n"
     ]
    }
   ],
   "source": [
    "from sklearn.metrics import accuracy_score\n",
    "\n",
    "tree = tree.fit(X_train, y_train)\n",
    "y_train_pred = tree.predict(X_train)\n",
    "y_test_pred = tree.predict(X_test)\n",
    "\n",
    "tree_train = accuracy_score(y_train, y_train_pred)\n",
    "tree_test = accuracy_score(y_test, y_test_pred)\n",
    "print('Dokładność drzewa decyzyjnego dla danych uczących/testowych %.3f/%.3f'\n",
    "      % (tree_train, tree_test))\n",
    "\n",
    "bag = bag.fit(X_train, y_train)\n",
    "y_train_pred = bag.predict(X_train)\n",
    "y_test_pred = bag.predict(X_test)\n",
    "\n",
    "bag_train = accuracy_score(y_train, y_train_pred) \n",
    "bag_test = accuracy_score(y_test, y_test_pred) \n",
    "print('Dokładność agregacji dla danych uczących/testowych %.3f/%.3f'\n",
    "      % (bag_train, bag_test))"
   ]
  },
  {
   "cell_type": "code",
   "execution_count": 24,
   "metadata": {},
   "outputs": [],
   "source": [
    "from sklearn.ensemble import AdaBoostClassifier\n",
    "\n",
    "tree =  DecisionTreeClassifier(criterion='entropy', \n",
    "                              max_depth=2,\n",
    "                              random_state=1)\n",
    "\n",
    "ada = AdaBoostClassifier(base_estimator=tree,\n",
    "                         n_estimators=500, \n",
    "                         learning_rate=0.1,\n",
    "                         random_state=1)"
   ]
  },
  {
   "cell_type": "code",
   "execution_count": 25,
   "metadata": {},
   "outputs": [
    {
     "name": "stdout",
     "output_type": "stream",
     "text": [
      "Dokładność drzewa decyzyjnego dla danych uczących/testowych 0.531/0.551\n",
      "Dokładność algorytmu AdaBoost dla danych uczących/testowych 0.677/0.522\n"
     ]
    }
   ],
   "source": [
    "tree = tree.fit(X_train, y_train)\n",
    "y_train_pred = tree.predict(X_train)\n",
    "y_test_pred = tree.predict(X_test)\n",
    "\n",
    "tree_train = accuracy_score(y_train, y_train_pred)\n",
    "tree_test = accuracy_score(y_test, y_test_pred)\n",
    "print('Dokładność drzewa decyzyjnego dla danych uczących/testowych %.3f/%.3f'\n",
    "      % (tree_train, tree_test))\n",
    "\n",
    "ada = ada.fit(X_train, y_train)\n",
    "y_train_pred = ada.predict(X_train)\n",
    "y_test_pred = ada.predict(X_test)\n",
    "\n",
    "ada_train = accuracy_score(y_train, y_train_pred) \n",
    "ada_test = accuracy_score(y_test, y_test_pred) \n",
    "print('Dokładność algorytmu AdaBoost dla danych uczących/testowych %.3f/%.3f'\n",
    "      % (ada_train, ada_test))"
   ]
  },
  {
   "cell_type": "markdown",
   "metadata": {},
   "source": [
    "Niestety, agregacja nie podwyższyła znacznie dokładności modelu, a zastosowany po niej algorytm AdaBoost (który teoretycznie powinien jeszcze bardziej poprawić dokładność modelu) bardziej pogorszył wynik. Można zauważyć, że AdaBoost znacznie zwiększył dokładność zestawu uczącego przy obniżeniu dokładności klasyfikacji z zestawu testowego. Oznacza to, że model jest mocno obciążony i algorytm uległ przetrenowaniu."
   ]
  }
 ],
 "metadata": {
  "kernelspec": {
   "display_name": "Python 3",
   "language": "python",
   "name": "python3"
  },
  "language_info": {
   "codemirror_mode": {
    "name": "ipython",
    "version": 3
   },
   "file_extension": ".py",
   "mimetype": "text/x-python",
   "name": "python",
   "nbconvert_exporter": "python",
   "pygments_lexer": "ipython3",
   "version": "3.7.7"
  }
 },
 "nbformat": 4,
 "nbformat_minor": 4
}
