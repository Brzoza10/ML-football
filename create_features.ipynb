{
 "cells": [
  {
   "cell_type": "code",
   "execution_count": 262,
   "metadata": {},
   "outputs": [],
   "source": [
    "import pandas as pd\n",
    "import numpy as np\n",
    "import seaborn as sns\n",
    "import matplotlib.pyplot as plt\n",
    "%matplotlib inline"
   ]
  },
  {
   "cell_type": "code",
   "execution_count": 263,
   "metadata": {},
   "outputs": [],
   "source": [
    "class Clean_database:\n",
    "    def __init__(self, dbase_name=\"merged.csv\"):\n",
    "        \"\"\"\n",
    "        Ładuje bazę danych, następnie czyta za pomocą pandas.read_csv() i tworzy dla niej zmienną globalną \"df\"\n",
    "        \"\"\"\n",
    "        self.dbase_name = dbase_name\n",
    "        self.col_list = ['Date','HomeTeam', 'AwayTeam', 'FTHG', 'FTAG', 'FTR','HST', 'AST', 'HC', 'AC', 'HV', 'AV']\n",
    "        self.df = pd.read_csv(self.dbase_name)\n",
    "        self.df = self.df[self.col_list]\n",
    "        self.df.index.names = ['imatch']\n",
    "        \n",
    "    def add_pts(self):\n",
    "        home_dict = {'H':3, 'D':1, 'A':0}\n",
    "        away_dict = {'H':0, 'D':1, 'A':3}\n",
    "        \n",
    "        self.df[\"HP\"] = self.df['FTR'].map(home_dict)\n",
    "        self.df[\"AP\"] = self.df['FTR'].map(away_dict)\n",
    "        \n",
    "    def season_matchweek(self, season=380, week=10):\n",
    "        \"\"\"\n",
    "        Dodaje indeksy: season, matchweek\n",
    "        \n",
    "        season: liczba wszystkich meczów w sezonie\n",
    "        week: liczba meczów w jednej kolejce\n",
    "        \"\"\"\n",
    "        season = int(season)\n",
    "        week = int(week)\n",
    "        div = list(range(int(season/week)))\n",
    "        \n",
    "        seasons = list()\n",
    "        matchweeks = list()\n",
    "        for i in range(season):\n",
    "            seasons.append(pd.concat({i:self.df.iloc[i*season:(i+1)*season]}, names=['season']))\n",
    "            for x in div:\n",
    "                matchweeks.append(pd.concat({x:(seasons[i][x*week:(x+1)*week])}, names=['matchweek']))\n",
    "        \n",
    "        data = pd.concat(matchweeks)\n",
    "        data = data.reorder_levels(['season','matchweek','imatch']).sort_index()\n",
    "        \n",
    "        return data"
   ]
  },
  {
   "cell_type": "code",
   "execution_count": 332,
   "metadata": {},
   "outputs": [],
   "source": [
    "class Form:\n",
    "    \n",
    "    def __init__(self, database, team_names_col='HomeTeam'):\n",
    "        self.col_names = database.columns\n",
    "        self.form_df = database.copy()\n",
    "        self.teams = np.unique(self.form_df[team_names_col])\n",
    "        self.hfeat = ['HomeTeam','FTHG', 'FTAG','HST','AST','HC','HV','HP']\n",
    "        self.afeat = ['AwayTeam','FTAG','FTHG','AST','HST','AC','AV','AP']\n",
    "        \n",
    "    \n",
    "    def teams_df(self):\n",
    "        self.dfs = {}\n",
    "        for team in self.teams:\n",
    "            self.dfs[team] = self.form_df[(self.form_df['HomeTeam']==team) | (self.form_df['AwayTeam']==team)]\n",
    "            \n",
    "    def home_away(self):\n",
    "        self.df_ha = {}\n",
    "        for i,team in enumerate(self.dfs.keys()):\n",
    "            self.home = self.dfs.get(team)[self.dfs.get(team)['HomeTeam']==team]\n",
    "            self.home = self.home[self.hfeat]\n",
    "            self.away = self.dfs.get(team)[self.dfs.get(team)['AwayTeam']==team]\n",
    "            self.away = self.away[self.afeat]\n",
    "            self.df_ha[team] = (self.home, self.away)\n",
    "            \n",
    "        \n",
    "    def team_vals(self):\n",
    "        self.df_vals = {}\n",
    "        for team in self.df_ha.keys():\n",
    "            home = self.df_ha.get(team)[0]\n",
    "            away = self.df_ha.get(team)[1]\n",
    "            data = pd.concat([home,away]).sort_index()\n",
    "            data['Team'] = team\n",
    "            data['Gscored'] = np.where(pd.isnull(data['FTHG']), data['FTAG'], data['FTHG'])\n",
    "            data['Glost'] = np.where(pd.isnull(data['FTAG']), data['FTHG'], data['FTAG'])\n",
    "            data['SOT'] = np.where(pd.isnull(data['HST']), data['AST'], data['HST'])\n",
    "            data['SOTa'] = np.where(pd.isnull(data['AST']), data['HST'], data['AST'])\n",
    "            data['Corners'] = np.where(pd.isnull(data['HC']), data['AC'], data['HC'])\n",
    "            data['Points'] = np.where(pd.isnull(data['HP']), data['AP'], data['HP'])\n",
    "            data['Value'] = np.where(pd.isnull(data['HV']), data['AV'], data['HV'])\n",
    "            data = data[['Team','Gscored','Glost','SOT','SOTa','Corners','Points','Value']]\n",
    "            self.df_vals[team] = data\n",
    "            \n",
    "    def attack(self, goals_col='Gscored', SOT_col='SOT'):\n",
    "        '''\n",
    "        Take column from dataframe, calculate attack atribute and add column\n",
    "        goals_col: goal scored\n",
    "        SOT_col = shoots on target\n",
    "        '''\n",
    "        \n",
    "        for team in self.df_vals.keys():\n",
    "            df = self.df_vals.get(team)\n",
    "            att = list()\n",
    "            for g, s in zip(df.loc[:,goals_col], df.loc[:,SOT_col]):\n",
    "                if s > 0:\n",
    "                    if (g/s)>1:\n",
    "                        att.append(1)\n",
    "                    else:\n",
    "                        att.append(g/s)\n",
    "                else:\n",
    "                    att.append(0)\n",
    "            df.loc[:,'Attack'] = att\n",
    "    \n",
    "    def defence(self, lostG_col='Glost', SOTagst='SOTa'):\n",
    "        '''\n",
    "        Take column from dataframe, calculate defence attribute and add column\n",
    "        lostG-col: goal against\n",
    "        SOTagst: shoots on target against\n",
    "        '''\n",
    "       \n",
    "    \n",
    "        for team in self.df_vals.keys():\n",
    "            df = self.df_vals.get(team)\n",
    "            att = list()\n",
    "            for g, s in zip(df.loc[:,lostG_col], df.loc[:,SOTagst]):\n",
    "                if s > 0:\n",
    "                    if (g/s)<0:\n",
    "                        att.append(0)\n",
    "                    elif (g/s)>1:\n",
    "                        att.append(1)\n",
    "                    else:\n",
    "                        att.append(1-(g/s))\n",
    "                elif s<=0:\n",
    "                    att.append(1)\n",
    "            df.loc[:,'Defence'] = att\n",
    "    \n",
    "    def cumulative_pts(self, col='Points'):\n",
    "        for team in self.df_vals.keys():\n",
    "            df = self.df_vals.get(team)\n",
    "            df.loc[:,'CumPts'] = df.groupby(level=0)[col].cumsum()\n",
    "\n",
    "    def bin_bags(self):\n",
    "        \"\"\"\n",
    "        Dodaje analizę koszykową dla kumulowanej sumy punktów\n",
    "        \"\"\"\n",
    "        self.df_vals = pd.concat(self.df_vals).reset_index(level=0, drop=True).sort_index(level=['imatch'])\n",
    "        l = len(self.df_vals.groupby(level=1))\n",
    "        cum = []\n",
    "        for x in range(len(self.df_vals.groupby(level=0))):\n",
    "            a = self.df_vals.loc[x]\n",
    "\n",
    "            for i in range(l):\n",
    "                data = a.iloc[a.index.get_level_values(\"matchweek\")==i]\n",
    "                grouping = pd.cut(data['CumPts'], 5, labels=False)\n",
    "                cum.append(grouping.values)\n",
    "        cum = np.ravel(cum)\n",
    "        self.df_vals.loc[:,'Bag'] = cum\n",
    "        \n",
    "    def run(self):\n",
    "        p_dict = {3:1, 1:0, 0:-1}\n",
    "        self.df_vals.loc[:,'Run'] = self.df_vals['Points'].map(p_dict)\n",
    "        \n",
    "    def invals_labels(self, roll=3, goals_split=2.5):\n",
    "        \n",
    "        test = self.df_vals.loc[:,['Team','Corners','Value','Attack','Defence','Bag','Run']]\n",
    "        label = self.df_vals.loc[:,'Gscored'] + self.df_vals.loc[:,'Glost']\n",
    "        test.loc[:,'U/O'] = [0 if x > goals_split else 1 for x in label]\n",
    "        \n",
    "        alls = []\n",
    "        for i in range(len(test.groupby(level=0))):\n",
    "            teams = test['Team'].loc[i].unique()\n",
    "            tms = []\n",
    "            for team in teams:\n",
    "                z = test[test['Team']==team].loc[i]\n",
    "                lista = []\n",
    "                r = 0\n",
    "                for x in z['Run']:\n",
    "                    if x == -1:\n",
    "                        r = 0\n",
    "                        lista.append(r)\n",
    "                    else:\n",
    "                        r += x\n",
    "                        lista.append(r)\n",
    "                z.loc[:,'Run'] = lista\n",
    "                z.loc[:,['Corners','Attack','Defence']] = \\\n",
    "                z.loc[:,['Corners','Attack','Defence']].rolling(roll).mean().shift(1)\n",
    "                z.loc[:,['Bag','Run']] = z.loc[:,['Bag','Run']].shift(1)\n",
    "                tms.append(z)\n",
    "            data = pd.concat({i:pd.concat(tms)}, names=['season'])\n",
    "            alls.append(data)\n",
    "        n = pd.concat(alls)\n",
    "        n.sort_index(inplace=True)\n",
    "        \n",
    "        s = n.index.unique(level=0).tolist()\n",
    "\n",
    "        cum = []\n",
    "        for x in s:\n",
    "            m = n.loc[(x)].index.unique(level=0).tolist()\n",
    "            for i in m:\n",
    "                r = n.loc[(x,i)].index.unique().tolist()\n",
    "                for c in r:\n",
    "                    data = n.loc[(x,i,c)]\n",
    "                    if int(len(data)) != 2:\n",
    "                        print(data)\n",
    "                    elif ~(data.isnull().values.any()):\n",
    "                        cum.append(data)\n",
    "        g = pd.concat(cum)\n",
    "        \n",
    "        s = n.index.unique(level=0).tolist()\n",
    "        \n",
    "        ftr = []\n",
    "        labels = []\n",
    "        cum = []\n",
    "        for x in s:\n",
    "            m = g.loc[(x)].index.unique(level=0).tolist()\n",
    "            for i in m:\n",
    "                r = g.loc[(x,i)].index.unique().tolist()\n",
    "                for c in r:\n",
    "                    data = g.loc[(x,i,c)]\n",
    "                    labels.append(data['U/O'].iloc[1])\n",
    "                    test = data.drop(columns=['Team','U/O'])\n",
    "                    cum.append(np.abs(test.iloc[0] - test.iloc[1]))\n",
    "        nowa = pd.DataFrame(cum).reset_index(drop=True)\n",
    "        nowa.loc[:,'label'] = labels\n",
    "        \n",
    "        return nowa"
   ]
  },
  {
   "cell_type": "code",
   "execution_count": 333,
   "metadata": {},
   "outputs": [],
   "source": [
    "class Final(Clean_database, Form):\n",
    "    \"\"\"\n",
    "    Zbiera klasy Clean_database i Form oraz wykonuje wszystkie niezbędne operacje dotyczące załadowania,\n",
    "    czyszczenia oraz dodania atrybutów do bazy danych.\n",
    "    \"\"\"\n",
    "    def __init__(self):\n",
    "        clean = Clean_database(\"merged.csv\")\n",
    "        clean.add_pts()\n",
    "        self.database = clean.season_matchweek()\n",
    "        \n",
    "    def get_atts(self):\n",
    "        \"\"\"\n",
    "        zwracą gotową bazę danych dla każdej drużyny\n",
    "        \"\"\"\n",
    "        data = Form(self.database)\n",
    "        data.teams_df()\n",
    "        data.home_away()\n",
    "        data.team_vals()\n",
    "        data.attack()\n",
    "        data.defence()\n",
    "        data.cumulative_pts()\n",
    "        data.bin_bags()\n",
    "        data.run()\n",
    "        dataframe = data.invals_labels(goals_split=1.5)\n",
    "        \n",
    "        return dataframe"
   ]
  },
  {
   "cell_type": "code",
   "execution_count": 334,
   "metadata": {},
   "outputs": [],
   "source": [
    "a = Final()\n",
    "df = a.get_atts()"
   ]
  },
  {
   "cell_type": "code",
   "execution_count": 335,
   "metadata": {},
   "outputs": [],
   "source": [
    "X = df.iloc[:,:6].values\n",
    "y = df.iloc[:,6].values"
   ]
  },
  {
   "cell_type": "code",
   "execution_count": 336,
   "metadata": {},
   "outputs": [],
   "source": [
    "from sklearn.model_selection import train_test_split\n",
    "\n",
    "X_train, X_test, y_train, y_test = \\\n",
    "train_test_split(X,y, test_size=0.2, stratify=y, random_state=1)"
   ]
  },
  {
   "cell_type": "code",
   "execution_count": 337,
   "metadata": {},
   "outputs": [
    {
     "name": "stdout",
     "output_type": "stream",
     "text": [
      " 1) Value           0.250035\n",
      " 2) Attack          0.241125\n",
      " 3) Defence         0.230214\n",
      " 4) Corners         0.130960\n",
      " 5) Run             0.086445\n",
      " 6) Bag             0.061221\n"
     ]
    },
    {
     "data": {
      "image/png": "[encoded data removed]",
      "text/plain": [
       "<Figure size 432x288 with 1 Axes>"
      ]
     },
     "metadata": {
      "needs_background": "light"
     },
     "output_type": "display_data"
    }
   ],
   "source": [
    "from sklearn.ensemble import RandomForestClassifier\n",
    "\n",
    "feat_labels = df.columns\n",
    "\n",
    "forest = RandomForestClassifier(n_estimators=500, random_state=1)\n",
    "\n",
    "forest.fit(X_train, y_train)\n",
    "importances = forest.feature_importances_\n",
    "\n",
    "indices = np.argsort(importances)[::-1]\n",
    "\n",
    "for f in range(X_train.shape[1]):\n",
    "    print(\"%2d) %-*s %f\" % (f + 1, 15,\n",
    "                            feat_labels[indices[f]],\n",
    "                            importances[indices[f]]))\n",
    "    \n",
    "plt.title(\"Istotność cech\")\n",
    "plt.bar(range(X_train.shape[1]),\n",
    "       importances[indices],\n",
    "       align='center')\n",
    "plt.xticks(range(X_train.shape[1]),\n",
    "          feat_labels[indices], rotation=90)\n",
    "plt.xlim([-1, X_train.shape[1]])\n",
    "plt.tight_layout()\n",
    "plt.show()"
   ]
  },
  {
   "cell_type": "code",
   "execution_count": 338,
   "metadata": {},
   "outputs": [
    {
     "name": "stdout",
     "output_type": "stream",
     "text": [
      "Dokładność testu 0.460\n"
     ]
    }
   ],
   "source": [
    "from sklearn.preprocessing import StandardScaler\n",
    "from sklearn.decomposition import PCA\n",
    "from sklearn.linear_model import LogisticRegression\n",
    "from sklearn.pipeline import make_pipeline\n",
    "\n",
    "pipe_lr = make_pipeline(StandardScaler(),\n",
    "                       LogisticRegression(random_state=1,class_weight='balanced'))\n",
    "pipe_lr.fit(X_train, y_train)\n",
    "y_pred = pipe_lr.predict(X_test)\n",
    "print('Dokładność testu %.3f' % (pipe_lr.score(X_test, y_test)))"
   ]
  },
  {
   "cell_type": "markdown",
   "metadata": {},
   "source": [
    "#####  interval: 3"
   ]
  },
  {
   "cell_type": "code",
   "execution_count": 339,
   "metadata": {},
   "outputs": [
    {
     "data": {
      "image/png": "[encoded data removed]",
      "text/plain": [
       "<Figure size 504x360 with 1 Axes>"
      ]
     },
     "metadata": {
      "needs_background": "light"
     },
     "output_type": "display_data"
    }
   ],
   "source": [
    "from sklearn.metrics import roc_curve, auc\n",
    "from distutils.version import LooseVersion as Version\n",
    "from scipy import __version__ as scipy_version\n",
    "from sklearn.model_selection import StratifiedKFold\n",
    "\n",
    "\n",
    "if scipy_version >= Version('1.4.1'):\n",
    "    from numpy import interp\n",
    "else:\n",
    "    from scipy import interp\n",
    "\n",
    "\n",
    "X_train2 = X_train\n",
    "    \n",
    "\n",
    "cv = list(StratifiedKFold(n_splits=3).split(X_train, y_train))\n",
    "\n",
    "fig = plt.figure(figsize=(7, 5))\n",
    "\n",
    "mean_tpr = 0.0\n",
    "mean_fpr = np.linspace(0, 1, 100)\n",
    "all_tpr = []\n",
    "\n",
    "for i, (train, test) in enumerate(cv):\n",
    "    probas = pipe_lr.fit(X_train2[train],\n",
    "                         y_train[train]).predict_proba(X_train2[test])\n",
    "\n",
    "    fpr, tpr, thresholds = roc_curve(y_train[test],\n",
    "                                     probas[:, 1],\n",
    "                                     pos_label=1)\n",
    "    mean_tpr += interp(mean_fpr, fpr, tpr)\n",
    "    mean_tpr[0] = 0.0\n",
    "    roc_auc = auc(fpr, tpr)\n",
    "    plt.plot(fpr,\n",
    "             tpr,\n",
    "             label='ROC fold %d (area = %0.2f)'\n",
    "                   % (i+1, roc_auc))\n",
    "\n",
    "plt.plot([0, 1],\n",
    "         [0, 1],\n",
    "         linestyle='--',\n",
    "         color=(0.6, 0.6, 0.6),\n",
    "         label='Random guessing')\n",
    "mean_tpr /= len(cv)\n",
    "mean_tpr[-1] = 1.0\n",
    "mean_auc = auc(mean_fpr, mean_tpr)\n",
    "plt.plot(mean_fpr, mean_tpr, 'k--',\n",
    "         label='Mean ROC (area = %0.2f)' % mean_auc, lw=2)\n",
    "plt.plot([0, 0, 1],\n",
    "         [0, 1, 1],\n",
    "         linestyle=':',\n",
    "         color='black',\n",
    "         label='Perfect performance')\n",
    "\n",
    "plt.xlim([-0.05, 1.05])\n",
    "plt.ylim([-0.05, 1.05])\n",
    "plt.xlabel('False positive rate')\n",
    "plt.ylabel('True positive rate')\n",
    "plt.legend(loc=\"lower right\")\n",
    "\n",
    "plt.tight_layout()\n",
    "# plt.savefig('images/06_10.png', dpi=300)\n",
    "plt.show()"
   ]
  },
  {
   "cell_type": "code",
   "execution_count": 340,
   "metadata": {},
   "outputs": [
    {
     "data": {
      "image/png": "[encoded data removed]",
      "text/plain": [
       "<Figure size 180x180 with 1 Axes>"
      ]
     },
     "metadata": {
      "needs_background": "light"
     },
     "output_type": "display_data"
    }
   ],
   "source": [
    "from sklearn.metrics import confusion_matrix\n",
    "\n",
    "confmat = confusion_matrix(y_true=y_test, y_pred=y_pred)\n",
    "fig, ax = plt.subplots(figsize=(2.5, 2.5))\n",
    "ax.matshow(confmat, cmap=plt.cm.Blues, alpha=0.3)\n",
    "for i in range(confmat.shape[0]):\n",
    "    for j in range(confmat.shape[1]):\n",
    "        ax.text(x=j, y=i, s=confmat[i, j], va='center', ha='center')\n",
    "\n",
    "plt.xlabel('Przewidywana etkieta')\n",
    "plt.ylabel('Rzeczywista etykieta')\n",
    "\n",
    "plt.tight_layout()\n",
    "#plt.savefig('images/06_09.png', dpi=300)\n",
    "plt.show()"
   ]
  },
  {
   "cell_type": "code",
   "execution_count": 341,
   "metadata": {},
   "outputs": [],
   "source": [
    "from sklearn.ensemble import BaggingClassifier\n",
    "from sklearn.tree import DecisionTreeClassifier\n",
    "\n",
    "tree = DecisionTreeClassifier(criterion='entropy', \n",
    "                              max_depth=2,\n",
    "                              random_state=1, class_weight='balanced')\n",
    "\n",
    "bag = BaggingClassifier(base_estimator=tree,\n",
    "                        n_estimators=500, \n",
    "                        max_samples=1.0, \n",
    "                        max_features=1.0, \n",
    "                        bootstrap=True, \n",
    "                        bootstrap_features=False, \n",
    "                        n_jobs=-1, \n",
    "                        random_state=1,\n",
    "                       )"
   ]
  },
  {
   "cell_type": "code",
   "execution_count": 342,
   "metadata": {},
   "outputs": [
    {
     "name": "stdout",
     "output_type": "stream",
     "text": [
      "Dokładność drzewa decyzyjnego dla danych uczących/testowych 0.613/0.578\n",
      "Dokładność agregacji dla danych uczących/testowych 0.564/0.535\n"
     ]
    }
   ],
   "source": [
    "from sklearn.metrics import accuracy_score\n",
    "\n",
    "tree = tree.fit(X_train, y_train)\n",
    "y_train_pred = tree.predict(X_train)\n",
    "y_test_pred = tree.predict(X_test)\n",
    "\n",
    "tree_train = accuracy_score(y_train, y_train_pred)\n",
    "tree_test = accuracy_score(y_test, y_test_pred)\n",
    "print('Dokładność drzewa decyzyjnego dla danych uczących/testowych %.3f/%.3f'\n",
    "      % (tree_train, tree_test))\n",
    "\n",
    "bag = bag.fit(X_train, y_train)\n",
    "y_train_pred = bag.predict(X_train)\n",
    "y_test_pred = bag.predict(X_test)\n",
    "\n",
    "bag_train = accuracy_score(y_train, y_train_pred) \n",
    "bag_test = accuracy_score(y_test, y_test_pred) \n",
    "print('Dokładność agregacji dla danych uczących/testowych %.3f/%.3f'\n",
    "      % (bag_train, bag_test))"
   ]
  },
  {
   "cell_type": "code",
   "execution_count": 343,
   "metadata": {},
   "outputs": [],
   "source": [
    "from sklearn.ensemble import AdaBoostClassifier\n",
    "from sklearn.tree import DecisionTreeClassifier\n",
    "\n",
    "tree =  DecisionTreeClassifier(criterion='entropy', \n",
    "                              max_depth=2,\n",
    "                              random_state=1,\n",
    "                              class_weight='balanced')\n",
    "\n",
    "ada = AdaBoostClassifier(base_estimator=tree,\n",
    "                         n_estimators=500, \n",
    "                         learning_rate=0.01,\n",
    "                         random_state=1)"
   ]
  },
  {
   "cell_type": "code",
   "execution_count": 344,
   "metadata": {},
   "outputs": [
    {
     "name": "stdout",
     "output_type": "stream",
     "text": [
      "Dokładność drzewa decyzyjnego dla danych uczących/testowych 0.613/0.578\n",
      "Dokładność algorytmu AdaBoost dla danych uczących/testowych 0.590/0.515\n"
     ]
    }
   ],
   "source": [
    "tree = tree.fit(X_train, y_train)\n",
    "y_train_pred = tree.predict(X_train)\n",
    "y_test_pred = tree.predict(X_test)\n",
    "\n",
    "tree_train = accuracy_score(y_train, y_train_pred)\n",
    "tree_test = accuracy_score(y_test, y_test_pred)\n",
    "print('Dokładność drzewa decyzyjnego dla danych uczących/testowych %.3f/%.3f'\n",
    "      % (tree_train, tree_test))\n",
    "\n",
    "ada = ada.fit(X_train, y_train)\n",
    "y_train_pred = ada.predict(X_train)\n",
    "y_test_pred = ada.predict(X_test)\n",
    "\n",
    "ada_train = accuracy_score(y_train, y_train_pred) \n",
    "ada_test = accuracy_score(y_test, y_test_pred) \n",
    "print('Dokładność algorytmu AdaBoost dla danych uczących/testowych %.3f/%.3f'\n",
    "      % (ada_train, ada_test))"
   ]
  },
  {
   "cell_type": "code",
   "execution_count": 345,
   "metadata": {},
   "outputs": [
    {
     "data": {
      "image/png": "[encoded data removed]",
      "text/plain": [
       "<Figure size 180x180 with 1 Axes>"
      ]
     },
     "metadata": {
      "needs_background": "light"
     },
     "output_type": "display_data"
    }
   ],
   "source": [
    "confmat = confusion_matrix(y_true=y_test, y_pred=y_test_pred)\n",
    "fig, ax = plt.subplots(figsize=(2.5, 2.5))\n",
    "ax.matshow(confmat, cmap=plt.cm.Blues, alpha=0.3)\n",
    "for i in range(confmat.shape[0]):\n",
    "    for j in range(confmat.shape[1]):\n",
    "        ax.text(x=j, y=i, s=confmat[i, j], va='center', ha='center')\n",
    "\n",
    "plt.xlabel('Przewidywana etkieta')\n",
    "plt.ylabel('Rzeczywista etykieta')\n",
    "\n",
    "plt.tight_layout()\n",
    "#plt.savefig('images/06_09.png', dpi=300)\n",
    "plt.show()"
   ]
  },
  {
   "cell_type": "code",
   "execution_count": 346,
   "metadata": {},
   "outputs": [
    {
     "data": {
      "image/png": "[encoded data removed]",
      "text/plain": [
       "<Figure size 432x288 with 1 Axes>"
      ]
     },
     "metadata": {
      "needs_background": "light"
     },
     "output_type": "display_data"
    }
   ],
   "source": [
    "import matplotlib.pyplot as plt\n",
    "from sklearn.model_selection import learning_curve\n",
    "\n",
    "pipe_lr = make_pipeline(StandardScaler(),\n",
    "                        LogisticRegression(penalty='l2', random_state=1,\n",
    "                                           solver='lbfgs', max_iter=10000, class_weight='balanced'))\n",
    "\n",
    "train_sizes, train_scores, test_scores =\\\n",
    "                learning_curve(estimator=pipe_lr,\n",
    "                               X=X_train,\n",
    "                               y=y_train,\n",
    "                               train_sizes=np.linspace(0.1, 1.0, 10),\n",
    "                               cv=10,\n",
    "                               n_jobs=1)\n",
    "\n",
    "train_mean = np.mean(train_scores, axis=1)\n",
    "train_std = np.std(train_scores, axis=1)\n",
    "test_mean = np.mean(test_scores, axis=1)\n",
    "test_std = np.std(test_scores, axis=1)\n",
    "\n",
    "plt.plot(train_sizes, train_mean,\n",
    "         color='blue', marker='o',\n",
    "         markersize=5, label='Dokładność uczenia')\n",
    "\n",
    "plt.fill_between(train_sizes,\n",
    "                 train_mean + train_std,\n",
    "                 train_mean - train_std,\n",
    "                 alpha=0.15, color='blue')\n",
    "\n",
    "plt.plot(train_sizes, test_mean,\n",
    "         color='green', linestyle='--',\n",
    "         marker='s', markersize=5,\n",
    "         label='Dokładność walidacji')\n",
    "\n",
    "plt.fill_between(train_sizes,\n",
    "                 test_mean + test_std,\n",
    "                 test_mean - test_std,\n",
    "                 alpha=0.15, color='green')\n",
    "\n",
    "plt.grid()\n",
    "plt.xlabel('Liczba próbek uczących')\n",
    "plt.ylabel('Dokładność')\n",
    "plt.legend(loc='lower right')\n",
    "plt.tight_layout()\n",
    "# plt.savefig('images/06_05.png', dpi=300)\n",
    "plt.show()"
   ]
  },
  {
   "cell_type": "code",
   "execution_count": null,
   "metadata": {},
   "outputs": [],
   "source": []
  }
 ],
 "metadata": {
  "kernelspec": {
   "display_name": "Python 3",
   "language": "python",
   "name": "python3"
  },
  "language_info": {
   "codemirror_mode": {
    "name": "ipython",
    "version": 3
   },
   "file_extension": ".py",
   "mimetype": "text/x-python",
   "name": "python",
   "nbconvert_exporter": "python",
   "pygments_lexer": "ipython3",
   "version": "3.7.6"
  }
 },
 "nbformat": 4,
 "nbformat_minor": 4
}
